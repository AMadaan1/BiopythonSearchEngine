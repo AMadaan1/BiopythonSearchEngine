{
  "metadata": {
    "kernelspec": {
      "language": "python",
      "display_name": "Python 3",
      "name": "python3"
    },
    "language_info": {
      "name": "python",
      "version": "3.11.11",
      "mimetype": "text/x-python",
      "codemirror_mode": {
        "name": "ipython",
        "version": 3
      },
      "pygments_lexer": "ipython3",
      "nbconvert_exporter": "python",
      "file_extension": ".py"
    },
    "kaggle": {
      "accelerator": "none",
      "dataSources": [],
      "dockerImageVersionId": 31040,
      "isInternetEnabled": true,
      "language": "python",
      "sourceType": "notebook",
      "isGpuEnabled": false
    }
  },
  "nbformat": 4,
  "nbformat_minor": 4,
  "cells": [
    {
      "cell_type": "code",
      "metadata": {
        "trusted": true
      },
      "source": "!pip install biopython",
      "execution_count": null,
      "outputs": []
    },
    {
      "cell_type": "code",
      "metadata": {
        "trusted": true
      },
      "source": "#Imports\nfrom Bio.Blast import NCBIWWW\nfrom Bio.Blast import NCBIXML\nimport time\n\n#Takes path of FASTA file\nfile_path=input(\"Please input the path of your FASTA file(.fa) here: \")\n\n#Takes the contents of the file into a string\nfasta_string=open(file_path).read()\n\n#Splits the file into records\nrecords=fasta_string.split(\">\")\n\n#Removes the blank string\nrecords.remove(records[0])\n\n#Re-adds the \">\" sign in each record\nfor record in records:\n    records[records.index(record)] = \">\"+record\n\n#Asks which record should be searched\nqueries = input(f\"\"\"Your file has {len(records)} records. If you want to search multiple records, put commas between each record number. Please input the number of the records you want to search: \"\"\").split(\",\")\n\n#Turns the strings to integers\nfor query in queries:\n    queries[queries.index(query)]=int(query)\n\n#Requests what algorithm to use\nalg=input(\"Which algorithm do you want to use, blastn or megablast? \").lower()\nif alg==\"blastn\":\n    mb=None\nelif alg==\"megablast\":\n    mb=True\n\n#Searches using qblast\nfor query in queries:\n    start_time=time.perf_counter()\n    print(\"\\n\")\n    print(\"\\n\")\n    print(\"\\n\")\n    print(f\"**** Searching Record Number {query} ****\")\n    result_handle=NCBIWWW.qblast(\"blastn\",\"nt\",records[query-1], megablast=mb)\n    \n    #Reads these results into the record\n    blast_record=NCBIXML.read(result_handle)\n\n    #Sets the e value threshold (Default BLAST parameters)\n    e_value_thresh=0.05\n    \n    #Checks if there are alignments to print\n    #Shows alignments\n    for alignment in blast_record.alignments:\n        for hsp in alignment.hsps:\n            if hsp.expect < e_value_thresh:\n                print(\"****Alignment****\")\n                print(f\"Sequence: {alignment.title}\")\n                print(f\"Length: {alignment.length}\")\n                print(f\"E Value: {hsp.expect}\")\n                if hsp.query==hsp.sbjct:\n                    print(\"Exact Match!\")\n                    end_time=time.perf_counter()\n                    execution_time=abs(end_time-start_time)\n                    print(f\"Execution time: {round(execution_time)} seconds\")\n                    print(\"\\n\")\n                else:\n                    print(hsp.query)\n                    print(hsp.match)\n                    print(hsp.sbjct)\n                    end_time=time.perf_counter()\n                    execution_time=abs(end_time-start_time)\n                    print(f\"Execution time: {round(execution_time)} seconds\")\n                    print(\"\\n\")\n                    \n#Finishes results\nprint(\"No other significant similarities found\")",
      "execution_count": null,
      "outputs": []
    }
  ]
}
